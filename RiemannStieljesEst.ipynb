{
 "cells": [
  {
   "cell_type": "code",
   "execution_count": 3,
   "metadata": {},
   "outputs": [],
   "source": [
    "import numpy as np\n",
    "from scipy.stats import multivariate_normal"
   ]
  },
  {
   "cell_type": "markdown",
   "metadata": {},
   "source": [
    "## Algo process detail\n",
    "Description :\n",
    "Given a \"known\" data distribution P with domain X, and a function f:X->f(x). Given n pts {x1, …, x_n } \\in X not sampled from P, can you estimate E_P[f(x)] through these n pts? A: Use Riemann Stieltjes to get grids of X. And Use {f(x1), f(x2), …, f(xn)} to bestow value to all grids. (Like using nearest neighbor bestowing).\n",
    "\n",
    "Implementing:\n",
    "0. Given a function f\n",
    "1. Given a distribution <br>\n",
    "rv = multivariate_normal([0.5, -0.2], [[2.0, 0.3], [0.3, 0.5]])\n",
    "pdf(x, mean=None, cov=1, allow_singular=False)\n",
    "cdf(x, mean=None, cov=1, allow_singular=False, maxpts=1000000*dim, abseps=1e-5, releps=1e-5, lower_limit=None)\n",
    "rvs(mean=None, cov=1, size=1, random_state=None) # Draw random samples from a multivariate normal distribution.\n",
    "2. sample n points from it\n",
    "n = 20 <br>\n",
    "x_s = rvs(mean=None, cov=1, size=n, random_state=None) <br>\n",
    "f_x_s = [f(x) for x in x_s]\n",
    "3. Generates m cubics grids # How?\n",
    "Given Is = [I1, I2 ,..., Im] # m cubic\n",
    "4. Compute center -> closest x_s -> bestow f(x_s) -> find p. of  each cube\n",
    "5. Sum p. * f(x_s) to estimate E_p[f(x)]\n"
   ]
  },
  {
   "cell_type": "code",
   "execution_count": null,
   "metadata": {},
   "outputs": [],
   "source": []
  }
 ],
 "metadata": {
  "kernelspec": {
   "display_name": "RSE",
   "language": "python",
   "name": "python3"
  },
  "language_info": {
   "codemirror_mode": {
    "name": "ipython",
    "version": 3
   },
   "file_extension": ".py",
   "mimetype": "text/x-python",
   "name": "python",
   "nbconvert_exporter": "python",
   "pygments_lexer": "ipython3",
   "version": "3.1.-1"
  }
 },
 "nbformat": 4,
 "nbformat_minor": 2
}
