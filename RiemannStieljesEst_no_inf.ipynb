{
 "cells": [
  {
   "cell_type": "code",
   "execution_count": 6,
   "metadata": {},
   "outputs": [],
   "source": [
    "import numpy as np\n",
    "from scipy.stats import multivariate_normal\n",
    "import matplotlib.pyplot as plt\n",
    "from tqdm import tqdm"
   ]
  },
  {
   "cell_type": "markdown",
   "metadata": {},
   "source": [
    "## Algo process detail\n",
    "Description :\n",
    "Given a \"known\" data distribution P with domain X, and a function f:X->f(x). Given n pts {x1, …, x_n } \\in X not sampled from P, can you estimate E_P[f(x)] through these n pts? A: Use Riemann Stieltjes to get grids of X. And Use {f(x1), f(x2), …, f(xn)} to bestow value to all grids. (Like using nearest neighbor bestowing).\n",
    "\n",
    "Implementing:\n",
    "0. Given a function f\n",
    "1. Given a distribution <br>\n",
    "rv = multivariate_normal([0.5, -0.2], [[2.0, 0.3], [0.3, 0.5]])\n",
    "pdf(x, mean=None, cov=1, allow_singular=False)\n",
    "cdf(x, mean=None, cov=1, allow_singular=False, maxpts=1000000*dim, abseps=1e-5, releps=1e-5, lower_limit=None)\n",
    "rvs(mean=None, cov=1, size=1, random_state=None) # Draw random samples from a multivariate normal distribution.\n",
    "2. sample n points from it\n",
    "n = 20 <br>\n",
    "x_s = rvs(mean=None, cov=1, size=n, random_state=None) <br>\n",
    "f_x_s = [f(x) for x in x_s]\n",
    "3. Generates m cubics grids # How?\n",
    "Given Is = [I1, I2 ,..., Im] # m cubic\n",
    "4. Compute center -> closest x_s -> bestow f(x_s) -> find p. of  each cube\n",
    "5. Sum p. * f(x_s) to estimate E_p[f(x)]\n"
   ]
  },
  {
   "cell_type": "code",
   "execution_count": 7,
   "metadata": {},
   "outputs": [
    {
     "name": "stdout",
     "output_type": "stream",
     "text": [
      "[[ 0.05861303  0.24206201]\n",
      " [-0.95262748 -0.46796142]\n",
      " [ 0.27496071  1.40197714]\n",
      " [ 0.17149121  0.91571767]\n",
      " [ 1.31083357  1.6219507 ]]\n"
     ]
    }
   ],
   "source": [
    "\n",
    "def f_func(x):\n",
    "    mean = [0.1, 0.37]\n",
    "\n",
    "    # Define the covariance matrix (2x2)\n",
    "    covariance = [[2.75, 0.53], [ 0.53, 2.75]]\n",
    "    return multivariate_normal.pdf(x, mean=mean, cov=covariance, allow_singular=False)\n",
    "\n",
    "# Define the mean vector (2-dimensional)\n",
    "mean = [0, 0]\n",
    "\n",
    "# Define the covariance matrix (2x2)\n",
    "covariance = [[3, 0], [0, 1]]\n",
    "\n",
    "# Number of samples to generate\n",
    "n = 5\n",
    "\n",
    "# Generate n samples from the 2-dimensional normal distribution\n",
    "samples = multivariate_normal.rvs(mean=mean, cov=covariance, size=n)\n",
    "\n",
    "def sample_generator(mean, covariance, size_n ):\n",
    "    return multivariate_normal.rvs(mean=mean, cov=covariance, size= size_n)\n",
    "\n",
    "print(samples)"
   ]
  },
  {
   "cell_type": "code",
   "execution_count": 8,
   "metadata": {},
   "outputs": [
    {
     "name": "stdout",
     "output_type": "stream",
     "text": [
      "answer 0.03384387301144229\n"
     ]
    }
   ],
   "source": [
    "n = 100000\n",
    "\n",
    "# Generate n samples from the 2-dimensional normal distribution\n",
    "golden_samples = multivariate_normal.rvs(mean=mean, cov=covariance, size=n)\n",
    "f_samples = [f_func(sample) for sample in golden_samples]\n",
    "answer = np.mean(f_samples)\n",
    "print('answer', answer)\n"
   ]
  },
  {
   "cell_type": "code",
   "execution_count": 9,
   "metadata": {},
   "outputs": [
    {
     "data": {
      "text/plain": [
       "0.01641827503799641"
      ]
     },
     "execution_count": 9,
     "metadata": {},
     "output_type": "execute_result"
    }
   ],
   "source": [
    "\n",
    "def get_cubes(points):\n",
    "\n",
    "    unique_x = np.unique(points[:, 0])\n",
    "    unique_y = np.unique(points[:, 1])\n",
    "\n",
    "    # Sort coordinates\n",
    "    unique_x = np.sort(unique_x)\n",
    "    unique_y = np.sort(unique_y)\n",
    "\n",
    "    # Extend coordinates to include negative and positive infinity regions\n",
    "    # unique_x_extended = np.append(np.append(-np.inf, unique_x), np.inf)\n",
    "    # unique_y_extended = np.append(np.append(-np.inf, unique_y), np.inf)\n",
    "    unique_x_extended = unique_x\n",
    "    unique_y_extended = unique_y\n",
    "\n",
    "    # Generate all possible rectangles (cubes) with four vertices\n",
    "    cubes = []\n",
    "    for i in range(len(unique_x_extended) - 1):\n",
    "        for j in range(len(unique_y_extended) - 1):\n",
    "            x1, x2 = unique_x_extended[i], unique_x_extended[i + 1]\n",
    "            y1, y2 = unique_y_extended[j], unique_y_extended[j + 1]\n",
    "            cube = [(x1, y1), (x1, y2), (x2, y1), (x2, y2)]\n",
    "            cubes.append(cube)\n",
    "    return cubes\n",
    "\n",
    "def cube_centers(cubes):\n",
    "    centers = []\n",
    "    for cube in cubes:\n",
    "        finite_vertices = [vertex for vertex in cube if not np.isinf(vertex).any()]\n",
    "        if len(finite_vertices) == 0:\n",
    "            continue  # Skip if all vertices are infinite\n",
    "        x_coords = [vertex[0] for vertex in finite_vertices]\n",
    "        y_coords = [vertex[1] for vertex in finite_vertices]\n",
    "        center_x = np.mean(x_coords)\n",
    "        center_y = np.mean(y_coords)\n",
    "        centers.append((center_x, center_y))\n",
    "\n",
    "    return centers\n",
    "\n",
    "class good_cdf(): \n",
    "    def __init__(self, mean, covariance) -> None:\n",
    "        self.mean , self.covariance = mean, covariance\n",
    "        \n",
    "    def cdf(self, x, y):\n",
    "        if -np.inf in (x, y):\n",
    "            return 0\n",
    "        else:\n",
    "            return multivariate_normal.cdf([x, y], mean=mean, cov=covariance)\n",
    "\n",
    "def cube_probability(cube, mean, covariance):\n",
    "    \"\"\"\n",
    "    Compute the probability of a cube using the CDF of its finite vertices.\n",
    "\n",
    "    Parameters:\n",
    "        cube (list of tuples): List of four tuples representing the vertices of the cube.\n",
    "        mean (list): Mean of the multivariate normal distribution.\n",
    "        covariance (list of lists): Covariance matrix of the multivariate normal distribution.\n",
    "\n",
    "    Returns:\n",
    "        float: Probability of the cube.\n",
    "    \"\"\"\n",
    "    normal_rv = good_cdf(mean, covariance)\n",
    "    # Filter out vertices at positive or negative infinity\n",
    "    finite_vertices = [vertex for vertex in cube ]\n",
    "\n",
    "    if len(finite_vertices) < 2:\n",
    "        return 0  # If less than 2 finite vertices, the cube doesn't have a finite area\n",
    "    \n",
    "    # Extract coordinates of the finite vertices\n",
    "    x_coords = [vertex[0] for vertex in finite_vertices]\n",
    "    y_coords = [vertex[1] for vertex in finite_vertices]\n",
    "\n",
    "    # Compute the probability of the cube using multivariate normal CDF\n",
    "    x_min, x_max = min(x_coords), max(x_coords)\n",
    "    y_min, y_max = min(y_coords), max(y_coords)\n",
    "    \n",
    "\n",
    "    prob_cube = normal_rv.cdf(x_max, y_max) - \\\n",
    "                normal_rv.cdf(x_min, y_max) - \\\n",
    "                normal_rv.cdf(x_max, y_min) + \\\n",
    "                normal_rv.cdf(x_min, y_min)\n",
    "    # prob_cube = multivariate_normal.cdf([x_max, y_max], mean=mean, cov=covariance) - \\\n",
    "    #             multivariate_normal.cdf([x_min, y_max], mean=mean, cov=covariance) - \\\n",
    "    #             multivariate_normal.cdf([x_max, y_min], mean=mean, cov=covariance) + \\\n",
    "    #             multivariate_normal.cdf([x_min, y_min], mean=mean, cov=covariance)\n",
    "    \n",
    "    return prob_cube\n",
    "\n",
    "def closest_points_indices(centers, points):\n",
    "    \"\"\"\n",
    "    Find the indices of the closest points to each center from a given set of points.\n",
    "\n",
    "    Parameters:\n",
    "        centers (list of tuples): List of tuples representing the coordinates of the centers.\n",
    "        points (list of tuples): List of tuples representing the coordinates of the points.\n",
    "\n",
    "    Returns:\n",
    "        list: A list where each element represents the index of the closest point to each center.\n",
    "    \"\"\"\n",
    "    closest_points_indices_list = []\n",
    "\n",
    "    # Iterate over each center\n",
    "    for center in centers:\n",
    "        min_distance = float('inf')\n",
    "        closest_point_index = None\n",
    "\n",
    "        # Iterate over each point to find the closest one to the center\n",
    "        for point_index, point in enumerate(points):\n",
    "            distance = np.linalg.norm(np.array(center) - np.array(point))\n",
    "            if distance < min_distance:\n",
    "                min_distance = distance\n",
    "                closest_point_index = point_index\n",
    "\n",
    "        closest_points_indices_list.append(closest_point_index)\n",
    "\n",
    "    return closest_points_indices_list\n",
    "\n",
    "def RSest(f_func, mean, covariance, samples):\n",
    "    cubes = get_cubes(samples)\n",
    "    centers = cube_centers(cubes)\n",
    "    probs_over_cube = [cube_probability(cube, mean, covariance) for cube in cubes]\n",
    "    cls_indices = closest_points_indices(centers, samples)\n",
    "    f_samples = [f_func(sample) for sample in samples]\n",
    "    cube_f = [f_samples[index] for index in cls_indices ]\n",
    "    return np.sum( [ cube_f[i] * probs_over_cube[i] for i in range(len(cube_f))])\n",
    "\n",
    "RSest(f_func, mean, covariance, samples)"
   ]
  },
  {
   "cell_type": "code",
   "execution_count": 10,
   "metadata": {},
   "outputs": [
    {
     "data": {
      "text/plain": [
       "0.04901539567821277"
      ]
     },
     "execution_count": 10,
     "metadata": {},
     "output_type": "execute_result"
    }
   ],
   "source": [
    "def MCest(f_func, samples):\n",
    "    return np.mean([f_func(sample) for sample in samples])\n",
    "MCest(f_func, samples)"
   ]
  },
  {
   "cell_type": "code",
   "execution_count": 11,
   "metadata": {},
   "outputs": [
    {
     "name": "stderr",
     "output_type": "stream",
     "text": [
      "100%|██████████| 1000/1000 [00:21<00:00, 45.58it/s]\n",
      "100%|██████████| 1000/1000 [00:00<00:00, 2762.11it/s]\n"
     ]
    }
   ],
   "source": [
    "n_runs = 1000\n",
    "size_n = 10\n",
    "mean = [0, 0]\n",
    "covariance = [[3, 0], [0, 1]]\n",
    "\n",
    "sample_set = [ sample_generator(mean, covariance, size_n) for n in range(n_runs) ]\n",
    "RSe_list = [RSest(f_func, mean, covariance, samples) for samples in tqdm(sample_set) ]\n",
    "MC_list = [MCest(f_func, samples) for samples in tqdm(sample_set) ]\n",
    "\n"
   ]
  },
  {
   "cell_type": "code",
   "execution_count": 12,
   "metadata": {},
   "outputs": [],
   "source": [
    "# MC_list"
   ]
  },
  {
   "cell_type": "code",
   "execution_count": 13,
   "metadata": {},
   "outputs": [],
   "source": [
    "# RSe_list"
   ]
  },
  {
   "cell_type": "code",
   "execution_count": 14,
   "metadata": {},
   "outputs": [
    {
     "name": "stdout",
     "output_type": "stream",
     "text": [
      "answer 0.03384387301144229\n",
      "mean rse: 0.02608357762382225, var rse: 2.189251022315325e-05\n",
      "mean mc: 0.03348632688621715, var rse: 2.9016085444880773e-05\n"
     ]
    }
   ],
   "source": [
    "print('answer', answer)\n",
    "print(f'mean rse: {np.mean(RSe_list)}, var rse: {np.var(RSe_list)}')\n",
    "print(f'mean mc: {np.mean(MC_list)}, var rse: {np.var(MC_list)}')\n"
   ]
  },
  {
   "cell_type": "code",
   "execution_count": null,
   "metadata": {},
   "outputs": [],
   "source": []
  },
  {
   "cell_type": "code",
   "execution_count": 15,
   "metadata": {},
   "outputs": [
    {
     "name": "stdout",
     "output_type": "stream",
     "text": [
      "Centers of each valid cube:\n",
      "(-0.72012401, -1.5078293)\n",
      "(-0.72012401, -1.347052465)\n",
      "(-0.72012401, -0.9826103099999999)\n",
      "(-0.72012401, -0.42563593)\n",
      "(-0.72012401, 0.48591161)\n",
      "(-0.72012401, 1.04415009)\n",
      "(-0.23053120000000002, -1.5078293)\n",
      "(-0.2305312, -1.347052465)\n",
      "(-0.2305312, -0.9826103099999999)\n",
      "(-0.2305312, -0.42563593)\n",
      "(-0.2305312, 0.48591161)\n",
      "(-0.23053120000000002, 1.04415009)\n",
      "(0.45610815000000005, -1.5078293)\n",
      "(0.45610815000000005, -1.347052465)\n",
      "(0.45610815000000005, -0.9826103099999999)\n",
      "(0.45610815000000005, -0.42563593)\n",
      "(0.45610815000000005, 0.48591161)\n",
      "(0.45610815000000005, 1.04415009)\n",
      "(0.928320985, -1.5078293)\n",
      "(0.928320985, -1.347052465)\n",
      "(0.928320985, -0.9826103099999999)\n",
      "(0.928320985, -0.42563593)\n",
      "(0.928320985, 0.48591161)\n",
      "(0.928320985, 1.04415009)\n",
      "(1.722962505, -1.5078293)\n",
      "(1.722962505, -1.347052465)\n",
      "(1.722962505, -0.9826103099999999)\n",
      "(1.722962505, -0.42563593)\n",
      "(1.722962505, 0.48591161)\n",
      "(1.722962505, 1.04415009)\n",
      "(2.24243773, -1.5078293)\n",
      "(2.24243773, -1.347052465)\n",
      "(2.24243773, -0.9826103099999999)\n",
      "(2.24243773, -0.42563593)\n",
      "(2.24243773, 0.48591161)\n",
      "(2.24243773, 1.04415009)\n"
     ]
    },
    {
     "data": {
      "image/png": "[encoded data removed]",
      "text/plain": [
       "<Figure size 800x800 with 1 Axes>"
      ]
     },
     "metadata": {},
     "output_type": "display_data"
    }
   ],
   "source": [
    "import numpy as np\n",
    "import matplotlib.pyplot as plt\n",
    "\n",
    "# Given 2D points\n",
    "points = np.array([\n",
    "    [ 1.20348728, -1.18627563],\n",
    "    [ 0.25906161, -1.5078293 ],\n",
    "    [-0.72012401, -0.07232687],\n",
    "    [ 2.24243773, -0.77894499],\n",
    "    [ 0.65315469,  1.04415009]\n",
    "])\n",
    "\n",
    "# Extract and sort unique x and y coordinates\n",
    "unique_x = np.unique(points[:, 0])\n",
    "unique_y = np.unique(points[:, 1])\n",
    "\n",
    "# Sort coordinates\n",
    "unique_x = np.sort(unique_x)\n",
    "unique_y = np.sort(unique_y)\n",
    "\n",
    "# Extend coordinates to include negative and positive infinity regions\n",
    "unique_x_extended = np.append(np.append(-np.inf, unique_x), np.inf)\n",
    "unique_y_extended = np.append(np.append(-np.inf, unique_y), np.inf)\n",
    "\n",
    "# Generate all possible rectangles (cubes) with four vertices\n",
    "cubes = []\n",
    "for i in range(len(unique_x_extended) - 1):\n",
    "    for j in range(len(unique_y_extended) - 1):\n",
    "        x1, x2 = unique_x_extended[i], unique_x_extended[i + 1]\n",
    "        y1, y2 = unique_y_extended[j], unique_y_extended[j + 1]\n",
    "        cube = [(x1, y1), (x1, y2), (x2, y1), (x2, y2)]\n",
    "        cubes.append(cube)\n",
    "\n",
    "# Compute the center of each cube, skipping infinite vertices\n",
    "centers = []\n",
    "for cube in cubes:\n",
    "    finite_vertices = [vertex for vertex in cube if not np.isinf(vertex).any()]\n",
    "    if len(finite_vertices) == 0:\n",
    "        continue  # Skip if all vertices are infinite\n",
    "    x_coords = [vertex[0] for vertex in finite_vertices]\n",
    "    y_coords = [vertex[1] for vertex in finite_vertices]\n",
    "    center_x = np.mean(x_coords)\n",
    "    center_y = np.mean(y_coords)\n",
    "    centers.append((center_x, center_y))\n",
    "\n",
    "# Print the centers\n",
    "print(\"Centers of each valid cube:\")\n",
    "for center in centers:\n",
    "    print(center)\n",
    "\n",
    "# Plotting the points, grid, and centers\n",
    "plt.figure(figsize=(8, 8))\n",
    "\n",
    "# Plot the original points\n",
    "plt.scatter(points[:, 0], points[:, 1], c='blue', marker='o', label='Original Points')\n",
    "\n",
    "# Plot the grid vertices\n",
    "for x in unique_x:\n",
    "    for y in unique_y:\n",
    "        plt.scatter(x, y, c='red', marker='x')\n",
    "\n",
    "# Draw vertical and horizontal lines passing through each unique point\n",
    "for x in unique_x:\n",
    "    plt.axvline(x=x, color='gray', linestyle='--', linewidth=0.5)\n",
    "for y in unique_y:\n",
    "    plt.axhline(y=y, color='gray', linestyle='--', linewidth=0.5)\n",
    "\n",
    "# Plot the centers of each valid cube\n",
    "for center in centers:\n",
    "    plt.scatter(center[0], center[1], c='green', marker='s', label='Cube Centers' if center == centers[0] else \"\")\n",
    "\n",
    "# Set x and y axis labels\n",
    "plt.xlabel('X-axis')\n",
    "plt.ylabel('Y-axis')\n",
    "\n",
    "# Set the range for the axes to include some padding around the points\n",
    "padding = 1\n",
    "x_min, x_max = points[:, 0].min() - padding, points[:, 0].max() + padding\n",
    "y_min, y_max = points[:, 1].min() - padding, points[:, 1].max() + padding\n",
    "\n",
    "plt.xlim(x_min, x_max)\n",
    "plt.ylim(y_min, y_max)\n",
    "\n",
    "# Add a legend\n",
    "plt.legend()\n",
    "\n",
    "# Show the plot\n",
    "plt.show()\n"
   ]
  },
  {
   "cell_type": "code",
   "execution_count": null,
   "metadata": {},
   "outputs": [],
   "source": []
  }
 ],
 "metadata": {
  "kernelspec": {
   "display_name": "RSE",
   "language": "python",
   "name": "python3"
  },
  "language_info": {
   "codemirror_mode": {
    "name": "ipython",
    "version": 3
   },
   "file_extension": ".py",
   "mimetype": "text/x-python",
   "name": "python",
   "nbconvert_exporter": "python",
   "pygments_lexer": "ipython3",
   "version": "3.12.3"
  }
 },
 "nbformat": 4,
 "nbformat_minor": 2
}
